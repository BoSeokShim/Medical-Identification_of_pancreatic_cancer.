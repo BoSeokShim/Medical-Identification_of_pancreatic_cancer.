{
 "cells": [
  {
   "cell_type": "code",
   "execution_count": 4,
   "id": "12f6dd5a-c8ab-4e68-b97c-15f5ec6607fe",
   "metadata": {},
   "outputs": [],
   "source": [
    "import glob\n",
    "import cv2\n",
    "import os\n",
    "import pandas as pd\n",
    "import numpy as np"
   ]
  },
  {
   "cell_type": "code",
   "execution_count": null,
   "id": "e2427984",
   "metadata": {},
   "outputs": [],
   "source": [
    "file_path = 'C:/Users/user/Desktop/medicalProject/dongtan2/project/data/raw/SNU308/SNU308/20230519.112458.574.SNU308_230519-026_3D.mp4'\n",
    "save_path='C:/Users/user/Desktop/medicalProject/dongtan2/project/data/original_stone/train/20230519.112458.574.SNU308_230519-026'\n",
    "\n",
    "video = cv2.VideoCapture(file_path)\n",
    "\n",
    "if not video.isOpened():\n",
    "    print(\"Could not Open :\", file_path)\n",
    "    exit(0)\n",
    "\n",
    "length = int(video.get(cv2.CAP_PROP_FRAME_COUNT))\n",
    "width = int(video.get(cv2.CAP_PROP_FRAME_WIDTH))\n",
    "height = int(video.get(cv2.CAP_PROP_FRAME_HEIGHT))\n",
    "fps = video.get(cv2.CAP_PROP_FPS)\n",
    "\n",
    "file_num=file_path[:-7].split('/')[-1]\n",
    "print(\"length :\", length)\n",
    "print(\"fps :\", fps)\n",
    "print(\"file_num :\", file_num)\n",
    "print(save_path)\n",
    "\n",
    "count = 0\n",
    "\n",
    "while(video.isOpened()):\n",
    "    ret, image = video.read()\n",
    "    if((int(video.get(1)) + 1) % 5 == 0):\n",
    "        cv2.imwrite(save_path +\"_%d.jpg\" % count, image)\n",
    "        count += 1\n",
    "        print('Saved frame number :', str(int(video.get(1))-1))\n",
    "    if(int(video.get(1)) == 150):  \n",
    "        break\n",
    "        \n",
    "\n",
    "video.release()"
   ]
  },
  {
   "cell_type": "code",
   "execution_count": null,
   "id": "396e526a-dffa-4ed8-8f4d-4acef7644ad4",
   "metadata": {
    "collapsed": true,
    "jupyter": {
     "outputs_hidden": true
    },
    "tags": []
   },
   "outputs": [],
   "source": [
    "#file_path = 'C:/Users/user/Desktop/medicalProject/dongtan2/project/data/raw/H69/H69/*.mp4'\n",
    "#file_path = 'C:/Users/user/Desktop/medicalProject/dongtan2/project/data/raw/SNU308/SNU308/*.mp4'\n",
    "#file_path = 'C:/Users/user/Desktop/medicalProject/dongtan2/project/data/raw/SNU478/SNU478/*.mp4'\n",
    "file_path = 'C:/Users/user/Desktop/medicalProject/dongtan2/project/data/raw/SNU1196/SNU1196/*.mp4'\n",
    "\n",
    "file_path_list = glob.glob(file_path)\n",
    "save_root='C:/Users/user/Desktop/medicalProject/dongtan2/project/data/original_stone/train/'\n",
    "\n",
    "for file_path in file_path_list:\n",
    "\n",
    "    video = cv2.VideoCapture(file_path)\n",
    "    \n",
    "    if not video.isOpened():\n",
    "        print(\"Could not Open :\", file_path)\n",
    "        exit(0)\n",
    "\n",
    "    length = int(video.get(cv2.CAP_PROP_FRAME_COUNT))\n",
    "    width = int(video.get(cv2.CAP_PROP_FRAME_WIDTH))\n",
    "    height = int(video.get(cv2.CAP_PROP_FRAME_HEIGHT))\n",
    "    fps = video.get(cv2.CAP_PROP_FPS)\n",
    "\n",
    "    file_num=file_path[:-7].split('\\\\')[-1]\n",
    "    print(\"length :\", length)\n",
    "    print(\"fps :\", fps)\n",
    "    print(\"file_num :\", file_num)\n",
    "    save_path = save_root+file_num\n",
    "    print(save_path)\n",
    "    try:\n",
    "        if not os.path.exists(save_root):\n",
    "            os.makedirs(save_root)\n",
    "    except OSError:\n",
    "        print ('Error: Creating directory.' + save_path)\n",
    "\n",
    "    count = 0\n",
    "\n",
    "    while(video.isOpened()):\n",
    "        ret, image = video.read()\n",
    "        if((int(video.get(1)) + 1) % 5 == 0):\n",
    "            cv2.imwrite(save_path +\"_%d.jpg\" % count, image)\n",
    "            count += 1\n",
    "            print('Saved frame number :', str(int(video.get(1))-1))\n",
    "        if(int(video.get(1)) == 150):  \n",
    "            break\n",
    "            \n",
    "\n",
    "    video.release()"
   ]
  },
  {
   "cell_type": "code",
   "execution_count": 26,
   "id": "a0ea82e4-1f43-4822-b2b9-eb639f05535a",
   "metadata": {},
   "outputs": [],
   "source": [
    "train = pd.read_excel('C:/Users/user/Desktop/medicalProject/dongtan2/project/data/raw/total.xlsx')"
   ]
  },
  {
   "cell_type": "code",
   "execution_count": 27,
   "id": "2a18e8dc-6c9d-4327-80a7-7c829a8c43b7",
   "metadata": {},
   "outputs": [
    {
     "data": {
      "text/plain": [
       "No.                                                          1\n",
       "Title                     20230711.103210.089.H69_20230711-001\n",
       "Lipid Volume (um^3)                                       3.73\n",
       "Lipid Mass (pg)                                           1.77\n",
       "Lipid Count                                                 12\n",
       "Volume (um³)                                         2045.5355\n",
       "Surface area (um²)                                   1278.2687\n",
       "Projected area (um²)                                  284.9311\n",
       "Mean RI                                                 1.3639\n",
       "Concentration (pg/um³)                                  0.1418\n",
       "Dry mass (pg)                                         290.0894\n",
       "Sphericity                                              0.6096\n",
       "Threshold RI                                            1.3507\n",
       "patient                                                      0\n",
       "cancer                                                     H69\n",
       "Name: 0, dtype: object"
      ]
     },
     "execution_count": 27,
     "metadata": {},
     "output_type": "execute_result"
    }
   ],
   "source": [
    "train.iloc[0]['Title']"
   ]
  },
  {
   "cell_type": "code",
   "execution_count": 28,
   "id": "4905f5b0-d32f-4608-ae09-e372e5e7a907",
   "metadata": {},
   "outputs": [
    {
     "data": {
      "text/plain": [
       "2496"
      ]
     },
     "execution_count": 28,
     "metadata": {},
     "output_type": "execute_result"
    }
   ],
   "source": [
    "len(train)"
   ]
  },
  {
   "cell_type": "code",
   "execution_count": null,
   "id": "e6e7480c-f745-4601-a599-410ade24362c",
   "metadata": {},
   "outputs": [],
   "source": [
    "'''\n",
    "전체 데이터에 대한 csv파일 만들기\n",
    "'''\n",
    "\n",
    "# data frame 생성\n",
    "df = pd.DataFrame(columns=['image_name'])\n",
    "\n",
    "###원하는 column들을 생성\n",
    "df['Title'] = np.nan\n",
    "df['Lipid Volume (um^3)'] = np.nan\n",
    "df['Lipid Mass (pg)'] = np.nan\n",
    "df['Lipid Count'] = np.nan\n",
    "df['Volume (um³)'] = np.nan\n",
    "df['Surface area (um²)'] = np.nan\n",
    "df['Projected area (um²)'] = np.nan\n",
    "df['Mean RI'] = np.nan\n",
    "df['Concentration (pg/um³)'] = np.nan\n",
    "df['Dry mass (pg)'] = np.nan\n",
    "df['Sphericity'] = np.nan\n",
    "df['Threshold RI'] = np.nan\n",
    "df['patient'] = np.nan\n",
    "df['cancer'] = np.nan\n",
    "count = 0\n",
    "\n",
    "# naming된 이미지들의 경로를 불러온다.\n",
    "for i in range(2496): #모든 클래스 세포주 개수\n",
    "    data = train.iloc[i]\n",
    "  \n",
    "    for j in range(30):\n",
    "        df.loc[count, ['image_name']] = data[1]+'_'+str(j)+'.jpg'\n",
    "        df.loc[count, ['Title']] = data[1]\n",
    "        df.loc[count, ['Lipid Volume (um^3)']] = data[2]\n",
    "        df.loc[count, ['Lipid Mass (pg)']] = data[3]\n",
    "        df.loc[count, ['Lipid Count']] = data[4]\n",
    "        df.loc[count, ['Volume (um³)']] = data[5]\n",
    "        df.loc[count, ['Surface area (um²)']] = data[6]\n",
    "        df.loc[count, ['Projected area (um²)']] = data[7]\n",
    "        df.loc[count, ['Mean RI']] = data[8]\n",
    "        df.loc[count, ['Concentration (pg/um³)']] = data[9]\n",
    "        df.loc[count, ['Dry mass (pg)']] = data[10]\n",
    "        df.loc[count, ['Sphericity']] = data[11]\n",
    "        df.loc[count, ['Threshold RI']] = data[12]\n",
    "        df.loc[count, ['patient']] = data[13]\n",
    "        df.loc[count, ['cancer']] = data[14]\n",
    "        count+= 1\n",
    "\n",
    "df.to_csv('C:/Users/user/Desktop/medicalProject/dongtan2/project/data/original_stone/train.csv')\n",
    "print('csv 파일 저장 완료!')"
   ]
  }
 ],
 "metadata": {
  "kernelspec": {
   "display_name": "Python 3 (ipykernel)",
   "language": "python",
   "name": "python3"
  },
  "language_info": {
   "codemirror_mode": {
    "name": "ipython",
    "version": 3
   },
   "file_extension": ".py",
   "mimetype": "text/x-python",
   "name": "python",
   "nbconvert_exporter": "python",
   "pygments_lexer": "ipython3",
   "version": "3.9.16"
  }
 },
 "nbformat": 4,
 "nbformat_minor": 5
}
